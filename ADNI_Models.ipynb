{
  "nbformat": 4,
  "nbformat_minor": 0,
  "metadata": {
    "colab": {
      "name": "ADNI.ipynb",
      "provenance": [],
      "collapsed_sections": [],
      "toc_visible": true
    },
    "kernelspec": {
      "name": "python3",
      "display_name": "Python 3"
    }
  },
  "cells": [
    {
      "cell_type": "code",
      "metadata": {
        "id": "QzvylFWsbVMg",
        "colab_type": "code",
        "outputId": "dd4c0461-0f33-4d39-90dc-23efe5c07324",
        "colab": {
          "base_uri": "https://localhost:8080/",
          "height": 54
        }
      },
      "source": [
        "import tensorflow as tf\n",
        "##tf.enable_eager_execution()\n",
        "import pandas as pd\n",
        "import numpy as np\n",
        "from tensorflow.contrib import rnn\n",
        "#from keras.layers import RNN\n",
        "from sklearn.model_selection import train_test_split\n",
        "from sklearn.metrics import f1_score, accuracy_score, recall_score, precision_score,roc_curve,auc\n",
        "from google.colab import drive\n",
        "import os\n",
        "import time\n",
        "import tensorflow_probability as tfp\n",
        "\n",
        "import seaborn as sns\n",
        "import matplotlib.pyplot as plt\n",
        "from sklearn.preprocessing import LabelEncoder\n",
        "import statistics as stat\n",
        "##Change Directory if needed\n",
        "drive.mount('/content/drive/')\n",
        "os.chdir('/content/drive/My Drive/DataSet')"
      ],
      "execution_count": 0,
      "outputs": [
        {
          "output_type": "stream",
          "text": [
            "Drive already mounted at /content/drive/; to attempt to forcibly remount, call drive.mount(\"/content/drive/\", force_remount=True).\n"
          ],
          "name": "stdout"
        }
      ]
    },
    {
      "cell_type": "markdown",
      "metadata": {
        "id": "yVxE5bnJCNp_",
        "colab_type": "text"
      },
      "source": [
        "# **TensorFlow Implementation**"
      ]
    },
    {
      "cell_type": "code",
      "metadata": {
        "id": "3FjUaEgxbmlp",
        "colab_type": "code",
        "colab": {}
      },
      "source": [
        "##Importing the Data"
      ],
      "execution_count": 0,
      "outputs": []
    },
    {
      "cell_type": "code",
      "metadata": {
        "id": "_B6_kgEl7F1b",
        "colab_type": "code",
        "outputId": "1a5700af-8a1e-48c1-a4e1-a53e2739168e",
        "colab": {
          "base_uri": "https://localhost:8080/",
          "height": 746
        }
      },
      "source": [
        "###2. Complete Data\n",
        "missingvalues = [-1, -4, 'na']\n",
        "adnimerge = pd.read_csv('ADNIMERGE.csv',na_values = missingvalues)\n",
        "print(adnimerge.columns)\n",
        "print(print(adnimerge.groupby(['DX']).size()))\n",
        "adnimerge.head()"
      ],
      "execution_count": 0,
      "outputs": [
        {
          "output_type": "stream",
          "text": [
            "Index(['RID', 'PTID', 'VISCODE', 'SITE', 'COLPROT', 'ORIGPROT', 'EXAMDATE',\n",
            "       'DX_bl', 'AGE', 'PTGENDER',\n",
            "       ...\n",
            "       'TAU_bl', 'PTAU_bl', 'FDG_bl', 'PIB_bl', 'AV45_bl', 'Years_bl',\n",
            "       'Month_bl', 'Month', 'M', 'update_stamp'],\n",
            "      dtype='object', length=113)\n",
            "DX\n",
            "CN          3276\n",
            "Dementia    2207\n",
            "MCI         4361\n",
            "dtype: int64\n",
            "None\n"
          ],
          "name": "stdout"
        },
        {
          "output_type": "stream",
          "text": [
            "/usr/local/lib/python3.6/dist-packages/IPython/core/interactiveshell.py:2718: DtypeWarning: Columns (18,19,20,103,104) have mixed types. Specify dtype option on import or set low_memory=False.\n",
            "  interactivity=interactivity, compiler=compiler, result=result)\n"
          ],
          "name": "stderr"
        },
        {
          "output_type": "execute_result",
          "data": {
            "text/html": [
              "<div>\n",
              "<style scoped>\n",
              "    .dataframe tbody tr th:only-of-type {\n",
              "        vertical-align: middle;\n",
              "    }\n",
              "\n",
              "    .dataframe tbody tr th {\n",
              "        vertical-align: top;\n",
              "    }\n",
              "\n",
              "    .dataframe thead th {\n",
              "        text-align: right;\n",
              "    }\n",
              "</style>\n",
              "<table border=\"1\" class=\"dataframe\">\n",
              "  <thead>\n",
              "    <tr style=\"text-align: right;\">\n",
              "      <th></th>\n",
              "      <th>RID</th>\n",
              "      <th>PTID</th>\n",
              "      <th>VISCODE</th>\n",
              "      <th>SITE</th>\n",
              "      <th>COLPROT</th>\n",
              "      <th>ORIGPROT</th>\n",
              "      <th>EXAMDATE</th>\n",
              "      <th>DX_bl</th>\n",
              "      <th>AGE</th>\n",
              "      <th>PTGENDER</th>\n",
              "      <th>PTEDUCAT</th>\n",
              "      <th>PTETHCAT</th>\n",
              "      <th>PTRACCAT</th>\n",
              "      <th>PTMARRY</th>\n",
              "      <th>APOE4</th>\n",
              "      <th>FDG</th>\n",
              "      <th>PIB</th>\n",
              "      <th>AV45</th>\n",
              "      <th>ABETA</th>\n",
              "      <th>TAU</th>\n",
              "      <th>PTAU</th>\n",
              "      <th>CDRSB</th>\n",
              "      <th>ADAS11</th>\n",
              "      <th>ADAS13</th>\n",
              "      <th>ADASQ4</th>\n",
              "      <th>MMSE</th>\n",
              "      <th>RAVLT_immediate</th>\n",
              "      <th>RAVLT_learning</th>\n",
              "      <th>RAVLT_forgetting</th>\n",
              "      <th>RAVLT_perc_forgetting</th>\n",
              "      <th>LDELTOTAL</th>\n",
              "      <th>DIGITSCOR</th>\n",
              "      <th>TRABSCOR</th>\n",
              "      <th>FAQ</th>\n",
              "      <th>MOCA</th>\n",
              "      <th>EcogPtMem</th>\n",
              "      <th>EcogPtLang</th>\n",
              "      <th>EcogPtVisspat</th>\n",
              "      <th>EcogPtPlan</th>\n",
              "      <th>EcogPtOrgan</th>\n",
              "      <th>...</th>\n",
              "      <th>DIGITSCOR_bl</th>\n",
              "      <th>TRABSCOR_bl</th>\n",
              "      <th>FAQ_bl</th>\n",
              "      <th>mPACCdigit_bl</th>\n",
              "      <th>mPACCtrailsB_bl</th>\n",
              "      <th>FLDSTRENG_bl</th>\n",
              "      <th>FSVERSION_bl</th>\n",
              "      <th>Ventricles_bl</th>\n",
              "      <th>Hippocampus_bl</th>\n",
              "      <th>WholeBrain_bl</th>\n",
              "      <th>Entorhinal_bl</th>\n",
              "      <th>Fusiform_bl</th>\n",
              "      <th>MidTemp_bl</th>\n",
              "      <th>ICV_bl</th>\n",
              "      <th>MOCA_bl</th>\n",
              "      <th>EcogPtMem_bl</th>\n",
              "      <th>EcogPtLang_bl</th>\n",
              "      <th>EcogPtVisspat_bl</th>\n",
              "      <th>EcogPtPlan_bl</th>\n",
              "      <th>EcogPtOrgan_bl</th>\n",
              "      <th>EcogPtDivatt_bl</th>\n",
              "      <th>EcogPtTotal_bl</th>\n",
              "      <th>EcogSPMem_bl</th>\n",
              "      <th>EcogSPLang_bl</th>\n",
              "      <th>EcogSPVisspat_bl</th>\n",
              "      <th>EcogSPPlan_bl</th>\n",
              "      <th>EcogSPOrgan_bl</th>\n",
              "      <th>EcogSPDivatt_bl</th>\n",
              "      <th>EcogSPTotal_bl</th>\n",
              "      <th>ABETA_bl</th>\n",
              "      <th>TAU_bl</th>\n",
              "      <th>PTAU_bl</th>\n",
              "      <th>FDG_bl</th>\n",
              "      <th>PIB_bl</th>\n",
              "      <th>AV45_bl</th>\n",
              "      <th>Years_bl</th>\n",
              "      <th>Month_bl</th>\n",
              "      <th>Month</th>\n",
              "      <th>M</th>\n",
              "      <th>update_stamp</th>\n",
              "    </tr>\n",
              "  </thead>\n",
              "  <tbody>\n",
              "    <tr>\n",
              "      <th>0</th>\n",
              "      <td>2</td>\n",
              "      <td>011_S_0002</td>\n",
              "      <td>bl</td>\n",
              "      <td>11</td>\n",
              "      <td>ADNI1</td>\n",
              "      <td>ADNI1</td>\n",
              "      <td>2005-09-08</td>\n",
              "      <td>CN</td>\n",
              "      <td>74.3</td>\n",
              "      <td>Male</td>\n",
              "      <td>16</td>\n",
              "      <td>Not Hisp/Latino</td>\n",
              "      <td>White</td>\n",
              "      <td>Married</td>\n",
              "      <td>0.0</td>\n",
              "      <td>1.36665</td>\n",
              "      <td>NaN</td>\n",
              "      <td>NaN</td>\n",
              "      <td>NaN</td>\n",
              "      <td>NaN</td>\n",
              "      <td>NaN</td>\n",
              "      <td>0.0</td>\n",
              "      <td>10.67</td>\n",
              "      <td>18.67</td>\n",
              "      <td>5.0</td>\n",
              "      <td>28.0</td>\n",
              "      <td>44.0</td>\n",
              "      <td>4.0</td>\n",
              "      <td>6.0</td>\n",
              "      <td>54.5455</td>\n",
              "      <td>10.0</td>\n",
              "      <td>34.0</td>\n",
              "      <td>112.0</td>\n",
              "      <td>0.0</td>\n",
              "      <td>NaN</td>\n",
              "      <td>NaN</td>\n",
              "      <td>NaN</td>\n",
              "      <td>NaN</td>\n",
              "      <td>NaN</td>\n",
              "      <td>NaN</td>\n",
              "      <td>...</td>\n",
              "      <td>34.0</td>\n",
              "      <td>112.0</td>\n",
              "      <td>0.0</td>\n",
              "      <td>-4.37389</td>\n",
              "      <td>-4.17931</td>\n",
              "      <td>1.5 Tesla MRI</td>\n",
              "      <td>Cross-Sectional FreeSurfer (FreeSurfer Version...</td>\n",
              "      <td>118233.0</td>\n",
              "      <td>8336.0</td>\n",
              "      <td>1229740.0</td>\n",
              "      <td>4177.0</td>\n",
              "      <td>16559.0</td>\n",
              "      <td>27936.0</td>\n",
              "      <td>1984660.0</td>\n",
              "      <td>NaN</td>\n",
              "      <td>NaN</td>\n",
              "      <td>NaN</td>\n",
              "      <td>NaN</td>\n",
              "      <td>NaN</td>\n",
              "      <td>NaN</td>\n",
              "      <td>NaN</td>\n",
              "      <td>NaN</td>\n",
              "      <td>NaN</td>\n",
              "      <td>NaN</td>\n",
              "      <td>NaN</td>\n",
              "      <td>NaN</td>\n",
              "      <td>NaN</td>\n",
              "      <td>NaN</td>\n",
              "      <td>NaN</td>\n",
              "      <td>NaN</td>\n",
              "      <td>NaN</td>\n",
              "      <td>NaN</td>\n",
              "      <td>1.36665</td>\n",
              "      <td>NaN</td>\n",
              "      <td>NaN</td>\n",
              "      <td>0.000000</td>\n",
              "      <td>0.00000</td>\n",
              "      <td>0</td>\n",
              "      <td>0</td>\n",
              "      <td>2019-02-14 23:58:27.0</td>\n",
              "    </tr>\n",
              "    <tr>\n",
              "      <th>1</th>\n",
              "      <td>3</td>\n",
              "      <td>011_S_0003</td>\n",
              "      <td>bl</td>\n",
              "      <td>11</td>\n",
              "      <td>ADNI1</td>\n",
              "      <td>ADNI1</td>\n",
              "      <td>2005-09-12</td>\n",
              "      <td>AD</td>\n",
              "      <td>81.3</td>\n",
              "      <td>Male</td>\n",
              "      <td>18</td>\n",
              "      <td>Not Hisp/Latino</td>\n",
              "      <td>White</td>\n",
              "      <td>Married</td>\n",
              "      <td>1.0</td>\n",
              "      <td>1.08355</td>\n",
              "      <td>NaN</td>\n",
              "      <td>NaN</td>\n",
              "      <td>741.5</td>\n",
              "      <td>239.7</td>\n",
              "      <td>22.83</td>\n",
              "      <td>4.5</td>\n",
              "      <td>22.00</td>\n",
              "      <td>31.00</td>\n",
              "      <td>8.0</td>\n",
              "      <td>20.0</td>\n",
              "      <td>22.0</td>\n",
              "      <td>1.0</td>\n",
              "      <td>4.0</td>\n",
              "      <td>100.0000</td>\n",
              "      <td>2.0</td>\n",
              "      <td>25.0</td>\n",
              "      <td>148.0</td>\n",
              "      <td>10.0</td>\n",
              "      <td>NaN</td>\n",
              "      <td>NaN</td>\n",
              "      <td>NaN</td>\n",
              "      <td>NaN</td>\n",
              "      <td>NaN</td>\n",
              "      <td>NaN</td>\n",
              "      <td>...</td>\n",
              "      <td>25.0</td>\n",
              "      <td>148.0</td>\n",
              "      <td>10.0</td>\n",
              "      <td>-16.61980</td>\n",
              "      <td>-16.20680</td>\n",
              "      <td>1.5 Tesla MRI</td>\n",
              "      <td>Cross-Sectional FreeSurfer (FreeSurfer Version...</td>\n",
              "      <td>84599.0</td>\n",
              "      <td>5319.0</td>\n",
              "      <td>1129830.0</td>\n",
              "      <td>1791.0</td>\n",
              "      <td>15506.0</td>\n",
              "      <td>18422.0</td>\n",
              "      <td>1920690.0</td>\n",
              "      <td>NaN</td>\n",
              "      <td>NaN</td>\n",
              "      <td>NaN</td>\n",
              "      <td>NaN</td>\n",
              "      <td>NaN</td>\n",
              "      <td>NaN</td>\n",
              "      <td>NaN</td>\n",
              "      <td>NaN</td>\n",
              "      <td>NaN</td>\n",
              "      <td>NaN</td>\n",
              "      <td>NaN</td>\n",
              "      <td>NaN</td>\n",
              "      <td>NaN</td>\n",
              "      <td>NaN</td>\n",
              "      <td>NaN</td>\n",
              "      <td>741.5</td>\n",
              "      <td>239.7</td>\n",
              "      <td>22.83</td>\n",
              "      <td>1.08355</td>\n",
              "      <td>NaN</td>\n",
              "      <td>NaN</td>\n",
              "      <td>0.000000</td>\n",
              "      <td>0.00000</td>\n",
              "      <td>0</td>\n",
              "      <td>0</td>\n",
              "      <td>2019-02-14 23:58:27.0</td>\n",
              "    </tr>\n",
              "    <tr>\n",
              "      <th>2</th>\n",
              "      <td>3</td>\n",
              "      <td>011_S_0003</td>\n",
              "      <td>m06</td>\n",
              "      <td>11</td>\n",
              "      <td>ADNI1</td>\n",
              "      <td>ADNI1</td>\n",
              "      <td>2006-03-13</td>\n",
              "      <td>AD</td>\n",
              "      <td>81.3</td>\n",
              "      <td>Male</td>\n",
              "      <td>18</td>\n",
              "      <td>Not Hisp/Latino</td>\n",
              "      <td>White</td>\n",
              "      <td>Married</td>\n",
              "      <td>1.0</td>\n",
              "      <td>1.05803</td>\n",
              "      <td>NaN</td>\n",
              "      <td>NaN</td>\n",
              "      <td>NaN</td>\n",
              "      <td>NaN</td>\n",
              "      <td>NaN</td>\n",
              "      <td>6.0</td>\n",
              "      <td>19.00</td>\n",
              "      <td>30.00</td>\n",
              "      <td>10.0</td>\n",
              "      <td>24.0</td>\n",
              "      <td>19.0</td>\n",
              "      <td>2.0</td>\n",
              "      <td>6.0</td>\n",
              "      <td>100.0000</td>\n",
              "      <td>NaN</td>\n",
              "      <td>19.0</td>\n",
              "      <td>135.0</td>\n",
              "      <td>12.0</td>\n",
              "      <td>NaN</td>\n",
              "      <td>NaN</td>\n",
              "      <td>NaN</td>\n",
              "      <td>NaN</td>\n",
              "      <td>NaN</td>\n",
              "      <td>NaN</td>\n",
              "      <td>...</td>\n",
              "      <td>25.0</td>\n",
              "      <td>148.0</td>\n",
              "      <td>10.0</td>\n",
              "      <td>-16.61980</td>\n",
              "      <td>-16.20680</td>\n",
              "      <td>1.5 Tesla MRI</td>\n",
              "      <td>Cross-Sectional FreeSurfer (FreeSurfer Version...</td>\n",
              "      <td>84599.0</td>\n",
              "      <td>5319.0</td>\n",
              "      <td>1129830.0</td>\n",
              "      <td>1791.0</td>\n",
              "      <td>15506.0</td>\n",
              "      <td>18422.0</td>\n",
              "      <td>1920690.0</td>\n",
              "      <td>NaN</td>\n",
              "      <td>NaN</td>\n",
              "      <td>NaN</td>\n",
              "      <td>NaN</td>\n",
              "      <td>NaN</td>\n",
              "      <td>NaN</td>\n",
              "      <td>NaN</td>\n",
              "      <td>NaN</td>\n",
              "      <td>NaN</td>\n",
              "      <td>NaN</td>\n",
              "      <td>NaN</td>\n",
              "      <td>NaN</td>\n",
              "      <td>NaN</td>\n",
              "      <td>NaN</td>\n",
              "      <td>NaN</td>\n",
              "      <td>741.5</td>\n",
              "      <td>239.7</td>\n",
              "      <td>22.83</td>\n",
              "      <td>1.08355</td>\n",
              "      <td>NaN</td>\n",
              "      <td>NaN</td>\n",
              "      <td>0.498289</td>\n",
              "      <td>5.96721</td>\n",
              "      <td>6</td>\n",
              "      <td>6</td>\n",
              "      <td>2019-02-14 23:58:27.0</td>\n",
              "    </tr>\n",
              "    <tr>\n",
              "      <th>3</th>\n",
              "      <td>3</td>\n",
              "      <td>011_S_0003</td>\n",
              "      <td>m12</td>\n",
              "      <td>11</td>\n",
              "      <td>ADNI1</td>\n",
              "      <td>ADNI1</td>\n",
              "      <td>2006-09-12</td>\n",
              "      <td>AD</td>\n",
              "      <td>81.3</td>\n",
              "      <td>Male</td>\n",
              "      <td>18</td>\n",
              "      <td>Not Hisp/Latino</td>\n",
              "      <td>White</td>\n",
              "      <td>Married</td>\n",
              "      <td>1.0</td>\n",
              "      <td>1.09690</td>\n",
              "      <td>NaN</td>\n",
              "      <td>NaN</td>\n",
              "      <td>601.4</td>\n",
              "      <td>251.7</td>\n",
              "      <td>24.18</td>\n",
              "      <td>3.5</td>\n",
              "      <td>24.00</td>\n",
              "      <td>35.00</td>\n",
              "      <td>10.0</td>\n",
              "      <td>17.0</td>\n",
              "      <td>31.0</td>\n",
              "      <td>2.0</td>\n",
              "      <td>7.0</td>\n",
              "      <td>100.0000</td>\n",
              "      <td>0.0</td>\n",
              "      <td>21.0</td>\n",
              "      <td>126.0</td>\n",
              "      <td>17.0</td>\n",
              "      <td>NaN</td>\n",
              "      <td>NaN</td>\n",
              "      <td>NaN</td>\n",
              "      <td>NaN</td>\n",
              "      <td>NaN</td>\n",
              "      <td>NaN</td>\n",
              "      <td>...</td>\n",
              "      <td>25.0</td>\n",
              "      <td>148.0</td>\n",
              "      <td>10.0</td>\n",
              "      <td>-16.61980</td>\n",
              "      <td>-16.20680</td>\n",
              "      <td>1.5 Tesla MRI</td>\n",
              "      <td>Cross-Sectional FreeSurfer (FreeSurfer Version...</td>\n",
              "      <td>84599.0</td>\n",
              "      <td>5319.0</td>\n",
              "      <td>1129830.0</td>\n",
              "      <td>1791.0</td>\n",
              "      <td>15506.0</td>\n",
              "      <td>18422.0</td>\n",
              "      <td>1920690.0</td>\n",
              "      <td>NaN</td>\n",
              "      <td>NaN</td>\n",
              "      <td>NaN</td>\n",
              "      <td>NaN</td>\n",
              "      <td>NaN</td>\n",
              "      <td>NaN</td>\n",
              "      <td>NaN</td>\n",
              "      <td>NaN</td>\n",
              "      <td>NaN</td>\n",
              "      <td>NaN</td>\n",
              "      <td>NaN</td>\n",
              "      <td>NaN</td>\n",
              "      <td>NaN</td>\n",
              "      <td>NaN</td>\n",
              "      <td>NaN</td>\n",
              "      <td>741.5</td>\n",
              "      <td>239.7</td>\n",
              "      <td>22.83</td>\n",
              "      <td>1.08355</td>\n",
              "      <td>NaN</td>\n",
              "      <td>NaN</td>\n",
              "      <td>0.999316</td>\n",
              "      <td>11.96720</td>\n",
              "      <td>12</td>\n",
              "      <td>12</td>\n",
              "      <td>2019-02-14 23:58:27.0</td>\n",
              "    </tr>\n",
              "    <tr>\n",
              "      <th>4</th>\n",
              "      <td>3</td>\n",
              "      <td>011_S_0003</td>\n",
              "      <td>m24</td>\n",
              "      <td>11</td>\n",
              "      <td>ADNI1</td>\n",
              "      <td>ADNI1</td>\n",
              "      <td>2007-09-12</td>\n",
              "      <td>AD</td>\n",
              "      <td>81.3</td>\n",
              "      <td>Male</td>\n",
              "      <td>18</td>\n",
              "      <td>Not Hisp/Latino</td>\n",
              "      <td>White</td>\n",
              "      <td>Married</td>\n",
              "      <td>1.0</td>\n",
              "      <td>1.03258</td>\n",
              "      <td>NaN</td>\n",
              "      <td>NaN</td>\n",
              "      <td>NaN</td>\n",
              "      <td>NaN</td>\n",
              "      <td>NaN</td>\n",
              "      <td>8.0</td>\n",
              "      <td>25.67</td>\n",
              "      <td>37.67</td>\n",
              "      <td>10.0</td>\n",
              "      <td>19.0</td>\n",
              "      <td>23.0</td>\n",
              "      <td>1.0</td>\n",
              "      <td>5.0</td>\n",
              "      <td>100.0000</td>\n",
              "      <td>0.0</td>\n",
              "      <td>16.0</td>\n",
              "      <td>275.0</td>\n",
              "      <td>14.0</td>\n",
              "      <td>NaN</td>\n",
              "      <td>NaN</td>\n",
              "      <td>NaN</td>\n",
              "      <td>NaN</td>\n",
              "      <td>NaN</td>\n",
              "      <td>NaN</td>\n",
              "      <td>...</td>\n",
              "      <td>25.0</td>\n",
              "      <td>148.0</td>\n",
              "      <td>10.0</td>\n",
              "      <td>-16.61980</td>\n",
              "      <td>-16.20680</td>\n",
              "      <td>1.5 Tesla MRI</td>\n",
              "      <td>Cross-Sectional FreeSurfer (FreeSurfer Version...</td>\n",
              "      <td>84599.0</td>\n",
              "      <td>5319.0</td>\n",
              "      <td>1129830.0</td>\n",
              "      <td>1791.0</td>\n",
              "      <td>15506.0</td>\n",
              "      <td>18422.0</td>\n",
              "      <td>1920690.0</td>\n",
              "      <td>NaN</td>\n",
              "      <td>NaN</td>\n",
              "      <td>NaN</td>\n",
              "      <td>NaN</td>\n",
              "      <td>NaN</td>\n",
              "      <td>NaN</td>\n",
              "      <td>NaN</td>\n",
              "      <td>NaN</td>\n",
              "      <td>NaN</td>\n",
              "      <td>NaN</td>\n",
              "      <td>NaN</td>\n",
              "      <td>NaN</td>\n",
              "      <td>NaN</td>\n",
              "      <td>NaN</td>\n",
              "      <td>NaN</td>\n",
              "      <td>741.5</td>\n",
              "      <td>239.7</td>\n",
              "      <td>22.83</td>\n",
              "      <td>1.08355</td>\n",
              "      <td>NaN</td>\n",
              "      <td>NaN</td>\n",
              "      <td>1.998630</td>\n",
              "      <td>23.93440</td>\n",
              "      <td>24</td>\n",
              "      <td>24</td>\n",
              "      <td>2019-02-14 23:58:27.0</td>\n",
              "    </tr>\n",
              "  </tbody>\n",
              "</table>\n",
              "<p>5 rows × 113 columns</p>\n",
              "</div>"
            ],
            "text/plain": [
              "   RID        PTID VISCODE  SITE  ...  Month_bl Month   M           update_stamp\n",
              "0    2  011_S_0002      bl    11  ...   0.00000     0   0  2019-02-14 23:58:27.0\n",
              "1    3  011_S_0003      bl    11  ...   0.00000     0   0  2019-02-14 23:58:27.0\n",
              "2    3  011_S_0003     m06    11  ...   5.96721     6   6  2019-02-14 23:58:27.0\n",
              "3    3  011_S_0003     m12    11  ...  11.96720    12  12  2019-02-14 23:58:27.0\n",
              "4    3  011_S_0003     m24    11  ...  23.93440    24  24  2019-02-14 23:58:27.0\n",
              "\n",
              "[5 rows x 113 columns]"
            ]
          },
          "metadata": {
            "tags": []
          },
          "execution_count": 3
        }
      ]
    },
    {
      "cell_type": "markdown",
      "metadata": {
        "id": "ry8NM2vN0tCa",
        "colab_type": "text"
      },
      "source": [
        "#Functions"
      ]
    },
    {
      "cell_type": "code",
      "metadata": {
        "id": "wRYGhB9-cchH",
        "colab_type": "code",
        "colab": {}
      },
      "source": [
        "###Defining the LSTM Cell\n",
        "def recurrent_neural_network_model():\n",
        "    layer ={ 'weights': tf.Variable(tf.random_normal([n_units, n_classes])),'bias': tf.Variable(tf.random_normal([n_classes]))}\n",
        "\n",
        "    x = tf.split(xplaceholder, n_features, 1)\n",
        "    print(x)\n",
        "\n",
        "    lstm_cell = rnn.LSTMCell(n_units,reuse = tf.AUTO_REUSE)\n",
        "#    lstm_cell = rnn.LSTMCell(n_units,reuse=tf.get_variable_scope().reuse)\n",
        "    \n",
        "    outputs, states = rnn.static_rnn(lstm_cell, x, dtype=tf.float32)\n",
        "   \n",
        "    output = tf.matmul(outputs[-1], layer['weights']) + layer['bias']\n",
        "\n",
        "    return output"
      ],
      "execution_count": 0,
      "outputs": []
    },
    {
      "cell_type": "code",
      "metadata": {
        "id": "Iw42JW63AxDR",
        "colab_type": "code",
        "colab": {}
      },
      "source": [
        "###Training Model\n",
        "def trainmodel():\n",
        "    logit = recurrent_neural_network_model()\n",
        "    logit = tf.reshape(logit, [-1])\n",
        "    cost_list = []\n",
        "    index_list = []\n",
        "    cost = tf.reduce_mean(tf.nn.sigmoid_cross_entropy_with_logits(logits=logit, labels=yplaceholder))\n",
        "    optimizer = tf.train.AdamOptimizer().minimize(cost)\n",
        "\n",
        "    with tf.Session() as sess:\n",
        "        X_train,X_test,y_train,y_test = train_test_split(features, labels, test_size=0.2, shuffle=False, random_state=0)\n",
        "        X_train,y_train = perform_smote(X_train,y_train)\n",
        "        ##print(X_train)\n",
        "        ##print(X_test)\n",
        "        tf.global_variables_initializer().run()\n",
        "        tf.local_variables_initializer().run()\n",
        "         \n",
        "        for epoch in range(epochs):\n",
        "            epoch_loss = 0\n",
        "\n",
        "            i = 0\n",
        "            for i in range(int(len(X_train) / batch_size)):\n",
        "                start = i\n",
        "                end = i + batch_size\n",
        "\n",
        "                batch_x = np.array(X_train[start:end])\n",
        "                batch_y = np.array(y_train[start:end])\n",
        "\n",
        "                _, c = sess.run([optimizer, cost], feed_dict={xplaceholder: batch_x, yplaceholder: batch_y})\n",
        "                epoch_loss += c\n",
        "                i += batch_size\n",
        "\n",
        "            #print('Epoch', epoch, 'completed out of', epochs, 'loss:', epoch_loss)\n",
        "            if (epoch+1) % 5 == 0: \n",
        "              cost_list.append(epoch_loss)\n",
        "              index_list.append(epoch+1)\n",
        "        plt.plot(index_list,cost_list)\n",
        "        plt.xticks(index_list,rotation='vertical')\n",
        "        plt.xlabel(\"Number of Iterarion\")\n",
        "        plt.ylabel(\"Loss\")\n",
        "        plt.show()\n",
        "        pred = tf.round(tf.nn.sigmoid(logit)).eval({xplaceholder: np.array(X_test), yplaceholder: np.array(y_test)})\n",
        "        predr = (tf.nn.sigmoid(logit)).eval({xplaceholder: np.array(X_test), yplaceholder: np.array(y_test)})\n",
        "        fpr, tpr, thresholds = roc_curve(np.array(y_test), predr)\n",
        "        f1 = f1_score(np.array(y_test), pred, average='macro')\n",
        "        accuracy= accuracy_score(np.array(y_test), pred)\n",
        "        recall = recall_score(y_true=np.array(y_test), y_pred= pred)\n",
        "        precision = precision_score(y_true=np.array(y_test), y_pred=pred)\n",
        "        print(\"F1 Score:\", f1)\n",
        "        print(\"Accuracy Score:\",accuracy)\n",
        "        #print(\"Recall:\", recall)\n",
        "        #print(\"Precision:\", precision)\n",
        "        roc_auc = auc(fpr,tpr)\n",
        "        plt.plot(fpr, tpr, color='darkorange',lw=2,label='ROC curve (area = %0.2f)' % roc_auc)\n",
        "        plt.plot([0, 1], [0, 1], color='navy', lw=2, linestyle='--')\n",
        "        plt.xlim([0.0, 1.0])\n",
        "        plt.ylim([0.0, 1.05])\n",
        "        plt.xlabel('False Positive Rate')\n",
        "        plt.ylabel('True Positive Rate')\n",
        "        plt.title('Receiver operating characteristic')\n",
        "        plt.legend(loc=\"lower right\")\n",
        "        \n",
        "        \n",
        "    tf.reset_default_graph()\n",
        "    #print(sess._closed)\n",
        "    #sess.close()\n",
        "    #print(sess._closed)\n",
        "    return np.array(y_test),predr"
      ],
      "execution_count": 0,
      "outputs": []
    },
    {
      "cell_type": "code",
      "metadata": {
        "id": "VGMTyRZy58cy",
        "colab_type": "code",
        "colab": {}
      },
      "source": [
        "def visualize_feature(features, feat_importance):\n",
        "    \"\"\"\n",
        "        Visualize important features\n",
        "    \"\"\"\n",
        "    feat_importance,features = zip(*sorted(zip(feat_importance,features)))\n",
        "    fig, ax = plt.subplots(figsize=(15,10))\n",
        "    ax.set(xlabel='Name', ylabel='Importance',\n",
        "           title='Feature Importance Level')\n",
        "    ax.bar(features, feat_importance)\n",
        "    plt.xticks(features, rotation='vertical')\n",
        "    plt.show()"
      ],
      "execution_count": 0,
      "outputs": []
    },
    {
      "cell_type": "code",
      "metadata": {
        "id": "nVViqM1rFbuu",
        "colab_type": "code",
        "colab": {}
      },
      "source": [
        "tf.reset_default_graph()"
      ],
      "execution_count": 0,
      "outputs": []
    },
    {
      "cell_type": "markdown",
      "metadata": {
        "id": "CPxazcUtGflf",
        "colab_type": "text"
      },
      "source": [
        "# **Using MRI Scan Data**"
      ]
    },
    {
      "cell_type": "code",
      "metadata": {
        "id": "lbtWkYhrGoW3",
        "colab_type": "code",
        "outputId": "f42004aa-0aed-470e-c39b-21ddd3d3794e",
        "colab": {
          "base_uri": "https://localhost:8080/",
          "height": 34
        }
      },
      "source": [
        "mri = ['Ventricles','Hippocampus','Entorhinal','Fusiform','MidTemp','ICV','WholeBrain','DX']\n",
        "##mridata = adnimerge[mri][(adnimerge['VISCODE'] == 'bl') & (adnimerge['ORIGPROT'] == 'ADNI1') & (adnimerge['DX'] != 'CN')]\n",
        "##Changing for all available data\n",
        "#mridata = adnimerge[mri][(adnimerge['VISCODE'] == 'bl') & (adnimerge['ORIGPROT'] == 'ADNI1')]\n",
        "mridata = adnimerge[mri]\n",
        "##Moved below code to the next section\n",
        "#mridata[mridata['DX'] == 'MCI'] = mridata[mridata['DX'] == 'MCI'].assign(DX='CN') \n",
        "#mridata['DX_Code'] = LabelEncoder().fit_transform(mridata.DX)\n",
        "print(mridata.shape)\n",
        "#mridata.head()"
      ],
      "execution_count": 0,
      "outputs": [
        {
          "output_type": "stream",
          "text": [
            "(13862, 8)\n"
          ],
          "name": "stdout"
        }
      ]
    },
    {
      "cell_type": "code",
      "metadata": {
        "id": "5ktxWDnrHgyA",
        "colab_type": "code",
        "outputId": "93d3af84-3572-4b53-ae00-283eab01ccb9",
        "colab": {
          "base_uri": "https://localhost:8080/",
          "height": 459
        }
      },
      "source": [
        "mridata = mridata[mridata['Hippocampus'].isna() == False]\n",
        "mridata = mridata[mridata['Ventricles'].isna() == False]\n",
        "mridata = mridata[mridata['Entorhinal'].isna() == False]\n",
        "mridata = mridata[mridata['WholeBrain'].isna() == False]\n",
        "mridata = mridata[mridata['DX'].isna() == False]\n",
        "mridata[mridata['DX'] == 'MCI'] = mridata[mridata['DX'] == 'MCI'].assign(DX='CN') \n",
        "mridata['DX_Code'] = LabelEncoder().fit_transform(mridata.DX)\n",
        "print(mridata.shape)\n",
        "print(mridata.groupby(['DX']).size())\n",
        "print(mridata.isnull().sum())\n",
        "\n",
        "mridata.head()"
      ],
      "execution_count": 0,
      "outputs": [
        {
          "output_type": "stream",
          "text": [
            "(5470, 9)\n",
            "DX\n",
            "CN          4322\n",
            "Dementia    1148\n",
            "dtype: int64\n",
            "Ventricles     0\n",
            "Hippocampus    0\n",
            "Entorhinal     0\n",
            "Fusiform       0\n",
            "MidTemp        0\n",
            "ICV            0\n",
            "WholeBrain     0\n",
            "DX             0\n",
            "DX_Code        0\n",
            "dtype: int64\n"
          ],
          "name": "stdout"
        },
        {
          "output_type": "execute_result",
          "data": {
            "text/html": [
              "<div>\n",
              "<style scoped>\n",
              "    .dataframe tbody tr th:only-of-type {\n",
              "        vertical-align: middle;\n",
              "    }\n",
              "\n",
              "    .dataframe tbody tr th {\n",
              "        vertical-align: top;\n",
              "    }\n",
              "\n",
              "    .dataframe thead th {\n",
              "        text-align: right;\n",
              "    }\n",
              "</style>\n",
              "<table border=\"1\" class=\"dataframe\">\n",
              "  <thead>\n",
              "    <tr style=\"text-align: right;\">\n",
              "      <th></th>\n",
              "      <th>Ventricles</th>\n",
              "      <th>Hippocampus</th>\n",
              "      <th>Entorhinal</th>\n",
              "      <th>Fusiform</th>\n",
              "      <th>MidTemp</th>\n",
              "      <th>ICV</th>\n",
              "      <th>WholeBrain</th>\n",
              "      <th>DX</th>\n",
              "      <th>DX_Code</th>\n",
              "    </tr>\n",
              "  </thead>\n",
              "  <tbody>\n",
              "    <tr>\n",
              "      <th>0</th>\n",
              "      <td>118233.0</td>\n",
              "      <td>8336.0</td>\n",
              "      <td>4177.0</td>\n",
              "      <td>16559.0</td>\n",
              "      <td>27936.0</td>\n",
              "      <td>1984660.0</td>\n",
              "      <td>1229740.0</td>\n",
              "      <td>CN</td>\n",
              "      <td>0</td>\n",
              "    </tr>\n",
              "    <tr>\n",
              "      <th>1</th>\n",
              "      <td>84599.0</td>\n",
              "      <td>5319.0</td>\n",
              "      <td>1791.0</td>\n",
              "      <td>15506.0</td>\n",
              "      <td>18422.0</td>\n",
              "      <td>1920690.0</td>\n",
              "      <td>1129830.0</td>\n",
              "      <td>Dementia</td>\n",
              "      <td>1</td>\n",
              "    </tr>\n",
              "    <tr>\n",
              "      <th>2</th>\n",
              "      <td>88580.0</td>\n",
              "      <td>5446.0</td>\n",
              "      <td>2427.0</td>\n",
              "      <td>14400.0</td>\n",
              "      <td>16972.0</td>\n",
              "      <td>1906430.0</td>\n",
              "      <td>1100060.0</td>\n",
              "      <td>Dementia</td>\n",
              "      <td>1</td>\n",
              "    </tr>\n",
              "    <tr>\n",
              "      <th>3</th>\n",
              "      <td>90099.0</td>\n",
              "      <td>5157.0</td>\n",
              "      <td>1596.0</td>\n",
              "      <td>14617.0</td>\n",
              "      <td>17330.0</td>\n",
              "      <td>1903820.0</td>\n",
              "      <td>1095640.0</td>\n",
              "      <td>Dementia</td>\n",
              "      <td>1</td>\n",
              "    </tr>\n",
              "    <tr>\n",
              "      <th>4</th>\n",
              "      <td>97420.0</td>\n",
              "      <td>5139.0</td>\n",
              "      <td>1175.0</td>\n",
              "      <td>14033.0</td>\n",
              "      <td>16398.0</td>\n",
              "      <td>1903420.0</td>\n",
              "      <td>1088560.0</td>\n",
              "      <td>Dementia</td>\n",
              "      <td>1</td>\n",
              "    </tr>\n",
              "  </tbody>\n",
              "</table>\n",
              "</div>"
            ],
            "text/plain": [
              "   Ventricles  Hippocampus  Entorhinal  ...  WholeBrain        DX  DX_Code\n",
              "0    118233.0       8336.0      4177.0  ...   1229740.0        CN        0\n",
              "1     84599.0       5319.0      1791.0  ...   1129830.0  Dementia        1\n",
              "2     88580.0       5446.0      2427.0  ...   1100060.0  Dementia        1\n",
              "3     90099.0       5157.0      1596.0  ...   1095640.0  Dementia        1\n",
              "4     97420.0       5139.0      1175.0  ...   1088560.0  Dementia        1\n",
              "\n",
              "[5 rows x 9 columns]"
            ]
          },
          "metadata": {
            "tags": []
          },
          "execution_count": 10
        }
      ]
    },
    {
      "cell_type": "code",
      "metadata": {
        "id": "3kWfWxH_H4ix",
        "colab_type": "code",
        "outputId": "738c282e-0fdb-4fdb-e5d9-8f7c86c1dbe0",
        "colab": {
          "base_uri": "https://localhost:8080/",
          "height": 559
        }
      },
      "source": [
        "### Finding the Correlation between the Input at single Modal\n",
        "\n",
        "feat = mridata[['Ventricles','Hippocampus','Entorhinal','Fusiform','MidTemp','ICV','WholeBrain']]\n",
        "corr = feat.corr()\n",
        "# Generate a mask for the upper triangle\n",
        "mask = np.zeros_like(corr, dtype=np.bool)\n",
        "mask[np.triu_indices_from(mask)] = True\n",
        "\n",
        "# Set up the matplotlib figure\n",
        "f, ax = plt.subplots(figsize=(11, 9))\n",
        "\n",
        "# Generate a custom diverging colormap\n",
        "cmap = sns.diverging_palette(220, 10, as_cmap=True)\n",
        "\n",
        "# Draw the heatmap with the mask and correct aspect ratio\n",
        "sns.heatmap(corr, mask=mask,\n",
        "            square=True, linewidths=.5,  cbar_kws={\"shrink\": .5},annot=True)"
      ],
      "execution_count": 0,
      "outputs": [
        {
          "output_type": "execute_result",
          "data": {
            "text/plain": [
              "<matplotlib.axes._subplots.AxesSubplot at 0x7f19bd47c160>"
            ]
          },
          "metadata": {
            "tags": []
          },
          "execution_count": 5
        },
        {
          "output_type": "display_data",
          "data": {
            "image/png": "[encoded data removed]",
            "text/plain": [
              "<Figure size 792x648 with 2 Axes>"
            ]
          },
          "metadata": {
            "tags": []
          }
        }
      ]
    },
    {
      "cell_type": "markdown",
      "metadata": {
        "id": "98cv68krfQ3Y",
        "colab_type": "text"
      },
      "source": [
        "### **Analysis with the traditional Algorithms**"
      ]
    },
    {
      "cell_type": "code",
      "metadata": {
        "id": "yZZ0KlY-hou5",
        "colab_type": "code",
        "colab": {}
      },
      "source": [
        "##Performing PCA\n",
        "from sklearn.datasets import load_digits\n",
        "from sklearn.decomposition import KernelPCA\n",
        "##X, _ = load_digits(return_X_y=True)\n",
        "def perform_PCA(features):\n",
        "  transformer = KernelPCA(kernel='linear')\n",
        "  X_transformed = transformer.fit_transform(features)\n",
        "  print(features.shape)\n",
        "  print(X_transformed.shape)\n",
        "  return X_transformed\n"
      ],
      "execution_count": 0,
      "outputs": []
    },
    {
      "cell_type": "code",
      "metadata": {
        "id": "l8auHxiC05bp",
        "colab_type": "code",
        "outputId": "2e5d2a9a-f22d-427c-c4f0-945ea6f7bcf8",
        "colab": {
          "base_uri": "https://localhost:8080/",
          "height": 71
        }
      },
      "source": [
        "from imblearn.over_sampling import SMOTE\n",
        "def perform_smote(X_train,y_train):\n",
        "\n",
        "  print(X_train.shape)\n",
        "  smote = SMOTE(random_state = 0)\n",
        "  X_train, y_train = smote.fit_sample(X_train, y_train)\n",
        "  print(X_train.shape)\n",
        "  return X_train,y_train\n",
        "\n"
      ],
      "execution_count": 0,
      "outputs": [
        {
          "output_type": "stream",
          "text": [
            "/usr/local/lib/python3.6/dist-packages/sklearn/externals/six.py:31: DeprecationWarning: The module is deprecated in version 0.21 and will be removed in version 0.23 since we've dropped support for Python 2.7. Please rely on the official version of six (https://pypi.org/project/six/).\n",
            "  \"(https://pypi.org/project/six/).\", DeprecationWarning)\n"
          ],
          "name": "stderr"
        }
      ]
    },
    {
      "cell_type": "code",
      "metadata": {
        "id": "Wjv3VFGC7ZFl",
        "colab_type": "code",
        "colab": {}
      },
      "source": [
        "from sklearn.preprocessing import MinMaxScaler\n",
        "def perform_scale(features):\n",
        "\n",
        "    scaler = MinMaxScaler()\n",
        "    features = scaler.fit_transform(features)\n",
        "    return features"
      ],
      "execution_count": 0,
      "outputs": []
    },
    {
      "cell_type": "markdown",
      "metadata": {
        "id": "yAY1sohRBP1e",
        "colab_type": "text"
      },
      "source": [
        "### Logistic Regression"
      ]
    },
    {
      "cell_type": "code",
      "metadata": {
        "id": "UFc6o_GVTYif",
        "colab_type": "code",
        "outputId": "a737a4a6-a5df-428d-b911-b53790eaa97c",
        "colab": {
          "base_uri": "https://localhost:8080/",
          "height": 451
        }
      },
      "source": [
        "from sklearn.linear_model import LogisticRegression\n",
        "feat = ['Ventricles','Hippocampus','Entorhinal','Fusiform','MidTemp','ICV','WholeBrain']\n",
        "features = mridata[['Ventricles','Hippocampus','Entorhinal','Fusiform','MidTemp','ICV','WholeBrain']].values\n",
        "labels = mridata['DX_Code'].values\n",
        "\n",
        "features = perform_scale(features)\n",
        "features = perform_PCA(features)\n",
        "X_train,X_test,y_train,y_test = train_test_split(features, labels, test_size=0.2, shuffle=False, random_state=42)\n",
        "X_train,y_train = perform_smote(X_train,y_train)\n",
        "clf = LogisticRegression()\n",
        "clf.fit(X_train, y_train)\n",
        "predictions = clf.predict(X_test)\n",
        "accuracy = accuracy_score(y_test, predictions)\n",
        "\n",
        "f1 = f1_score(y_test, predictions, average='macro')\n",
        "print(\"F1 Score:\", f1)\n",
        "print(\"Accuracy Score:\",accuracy)\n",
        "fprlr, tprlr, thresholdslr = roc_curve(np.array(y_test), predictions)\n",
        "roc_auc = auc(fprlr,tprlr)\n",
        "plt.plot(fprlr, tprlr, color='darkorange',lw=2,label='ROC curve (area = %0.2f)' % roc_auc)\n",
        "plt.plot([0, 1], [0, 1], color='navy', lw=2, linestyle='--')\n",
        "plt.xlim([0.0, 1.0])\n",
        "plt.ylim([0.0, 1.05])\n",
        "plt.xlabel('False Positive Rate')\n",
        "plt.ylabel('True Positive Rate')\n",
        "plt.title('Receiver operating characteristic')\n",
        "plt.legend(loc=\"lower right\")\n",
        "plt.show()\n",
        "##visualize_feature(feat,clf.feature_importances_)  \n",
        "def f_importances(coef, names):\n",
        "    imp = coef\n",
        "    imp,names = zip(*sorted(zip(imp,names)))\n",
        "    plt.barh(range(len(names)), imp, align='center')\n",
        "    plt.yticks(range(len(names)), names)\n",
        "    plt.title('Feature Importance')\n",
        "    plt.show()\n",
        "#f_importances(abs(clf.coef_[0]),feat)"
      ],
      "execution_count": 0,
      "outputs": [
        {
          "output_type": "stream",
          "text": [
            "(5470, 7)\n",
            "(5470, 2726)\n",
            "(4376, 2726)\n",
            "(6656, 2726)\n"
          ],
          "name": "stdout"
        },
        {
          "output_type": "stream",
          "text": [
            "/usr/local/lib/python3.6/dist-packages/sklearn/linear_model/logistic.py:432: FutureWarning: Default solver will be changed to 'lbfgs' in 0.22. Specify a solver to silence this warning.\n",
            "  FutureWarning)\n"
          ],
          "name": "stderr"
        },
        {
          "output_type": "stream",
          "text": [
            "F1 Score: 0.7142292986032124\n",
            "Accuracy Score: 0.8839122486288848\n"
          ],
          "name": "stdout"
        },
        {
          "output_type": "display_data",
          "data": {
            "image/png": "[encoded data removed]",
            "text/plain": [
              "<Figure size 432x288 with 1 Axes>"
            ]
          },
          "metadata": {
            "tags": []
          }
        }
      ]
    },
    {
      "cell_type": "markdown",
      "metadata": {
        "id": "1Y1uL9iYBaGR",
        "colab_type": "text"
      },
      "source": [
        "### Random Forest"
      ]
    },
    {
      "cell_type": "code",
      "metadata": {
        "id": "QJVvMND0gWdP",
        "colab_type": "code",
        "outputId": "1284ab29-9d55-440f-85f0-ce8690603040",
        "colab": {
          "base_uri": "https://localhost:8080/",
          "height": 593
        }
      },
      "source": [
        "seed = 0\n",
        "from sklearn.ensemble import RandomForestClassifier\n",
        "feat = ['Ventricles','Hippocampus','Entorhinal','Fusiform','MidTemp','ICV','WholeBrain']\n",
        "###After the recursive feature selection\n",
        "features = mridata[['Ventricles','Hippocampus','Entorhinal','Fusiform','MidTemp','ICV','WholeBrain']]\n",
        "##features = mridata[['Hippocampus','Entorhinal']]\n",
        "labels = mridata['DX_Code'].values\n",
        "features = perform_scale(features)\n",
        "#features = perform_PCA(features)\n",
        "X_train,X_test,y_train,y_test = train_test_split(features, labels, test_size=0.2, shuffle=False, random_state=42)\n",
        "#X_train,y_train = perform_smote(X_train,y_train)\n",
        "clf = RandomForestClassifier(n_estimators=1000,criterion=\"entropy\",max_features=0.25, random_state=seed,class_weight='balanced')\n",
        "clf.fit(X_train, y_train)\n",
        "predictions = clf.predict(X_test)\n",
        "accuracy = accuracy_score(y_test, predictions)\n",
        "f1 = f1_score(y_test, predictions, average='macro')\n",
        "print(\"F1 Score:\", f1)\n",
        "print(\"Accuracy Score:\",accuracy)\n",
        "##visualize_feature(feat,clf.feature_importances_)  \n",
        "fprrf, tprrf, thresholdsrf = roc_curve(np.array(y_test), predictions)\n",
        "roc_auc = auc(fprrf,tprrf)\n",
        "plt.plot(fprrf, tprrf, color='darkorange',lw=2,label='ROC curve (area = %0.2f)' % roc_auc)\n",
        "plt.plot([0, 1], [0, 1], color='navy', lw=2, linestyle='--')\n",
        "plt.xlim([0.0, 1.0])\n",
        "plt.ylim([0.0, 1.05])\n",
        "plt.xlabel('False Positive Rate')\n",
        "plt.ylabel('True Positive Rate')\n",
        "plt.title('Receiver operating characteristic')\n",
        "plt.legend(loc=\"lower right\")\n",
        "plt.show()\n",
        "f_importances(clf.feature_importances_,feat)"
      ],
      "execution_count": 0,
      "outputs": [
        {
          "output_type": "stream",
          "text": [
            "F1 Score: 0.7743399339933994\n",
            "Accuracy Score: 0.9360146252285192\n"
          ],
          "name": "stdout"
        },
        {
          "output_type": "display_data",
          "data": {
            "image/png": "[encoded data removed]",
            "text/plain": [
              "<Figure size 432x288 with 1 Axes>"
            ]
          },
          "metadata": {
            "tags": []
          }
        },
        {
          "output_type": "display_data",
          "data": {
            "image/png": "[encoded data removed]",
            "text/plain": [
              "<Figure size 432x288 with 1 Axes>"
            ]
          },
          "metadata": {
            "tags": []
          }
        }
      ]
    },
    {
      "cell_type": "code",
      "metadata": {
        "id": "vm_2CLK9QyIb",
        "colab_type": "code",
        "outputId": "51516ac8-3ac1-4efd-d841-94bfe7059c28",
        "colab": {
          "base_uri": "https://localhost:8080/",
          "height": 51
        }
      },
      "source": [
        "from sklearn.ensemble import RandomForestClassifier\n",
        "from sklearn.feature_selection import SelectFromModel\n",
        "sel = SelectFromModel(RandomForestClassifier(n_estimators=500,criterion=\"entropy\",max_features=0.25, random_state=seed,class_weight='balanced'))\n",
        "sel.fit(X_train, y_train)\n",
        "##print(sel.get_support())\n",
        "selected_feat= X_train.columns[(sel.get_support())]\n",
        "print(len(selected_feat))\n",
        "print(selected_feat)"
      ],
      "execution_count": 0,
      "outputs": [
        {
          "output_type": "stream",
          "text": [
            "2\n",
            "Index(['Hippocampus', 'Entorhinal'], dtype='object')\n"
          ],
          "name": "stdout"
        }
      ]
    },
    {
      "cell_type": "code",
      "metadata": {
        "id": "xYlhSThvR1lT",
        "colab_type": "code",
        "outputId": "656962d0-1385-4c25-b98b-102f5e32a01b",
        "colab": {
          "base_uri": "https://localhost:8080/",
          "height": 85
        }
      },
      "source": [
        "from sklearn.feature_selection import RFE\n",
        "model = RandomForestClassifier(n_estimators=500,criterion=\"entropy\",max_features=0.25, random_state=seed,class_weight='balanced')\n",
        "rfe = RFE(model, 3)\n",
        "rfe = rfe.fit(X_train, y_train)\n",
        "print(rfe.support_)\n",
        "print(rfe.ranking_)\n",
        "selected_feat= X_train.columns[(sel.get_support())]\n",
        "print(len(selected_feat))\n",
        "print(selected_feat)"
      ],
      "execution_count": 0,
      "outputs": [
        {
          "output_type": "stream",
          "text": [
            "[False  True  True False  True False False]\n",
            "[4 1 1 2 1 5 3]\n",
            "2\n",
            "Index(['Hippocampus', 'Entorhinal'], dtype='object')\n"
          ],
          "name": "stdout"
        }
      ]
    },
    {
      "cell_type": "markdown",
      "metadata": {
        "id": "vs2DYn0WBgnj",
        "colab_type": "text"
      },
      "source": [
        "### SVM"
      ]
    },
    {
      "cell_type": "code",
      "metadata": {
        "id": "Asc_wr0-gkgL",
        "colab_type": "code",
        "outputId": "e5490e7b-cd71-46a7-ccec-90e9f5d792d3",
        "colab": {
          "base_uri": "https://localhost:8080/",
          "height": 85
        }
      },
      "source": [
        "##Useless takes a lot of time\n",
        "from sklearn.svm import SVC\n",
        "feat = ['Ventricles','Hippocampus','Entorhinal','Fusiform','MidTemp','ICV','WholeBrain']\n",
        "features = mridata[['Ventricles','Hippocampus','Entorhinal','Fusiform','MidTemp','ICV','WholeBrain']].values\n",
        "labels = mridata['DX_Code'].values\n",
        "features = perform_PCA(features)\n",
        "X_train,X_test,y_train,y_test = train_test_split(features, labels, test_size=0.2, shuffle=False, random_state=42)\n",
        "X_train,y_train = perform_smote(X_train,y_train)\n",
        "clf = SVC(kernel='linear')\n",
        "clf.fit(X_train, y_train)\n",
        "predictions = clf.predict(X_test)\n",
        "accuracy = accuracy_score(y_test, predictions)\n",
        "f1 = f1_score(y_test, predictions, average='weighted')\n",
        "print(\"F1 Score:\", f1)\n",
        "print(\"Accuracy Score:\",accuracy)\n",
        "fprsvm, tprsvm, thresholdsvm = roc_curve(np.array(y_test), predictions)\n",
        "roc_auc = auc(fprsvm,tprsvm)\n",
        "plt.plot(fprsvm, tprsvm, color='darkorange',lw=2,label='ROC curve (area = %0.2f)' % roc_auc)\n",
        "plt.plot([0, 1], [0, 1], color='navy', lw=2, linestyle='--')\n",
        "plt.xlim([0.0, 1.0])\n",
        "plt.ylim([0.0, 1.05])\n",
        "plt.xlabel('False Positive Rate')\n",
        "plt.ylabel('True Positive Rate')\n",
        "plt.title('Receiver operating characteristic')\n",
        "plt.legend(loc=\"lower right\")\n",
        "plt.show()\n",
        "f_importances(abs(clf.coef_[0]),feat)"
      ],
      "execution_count": 0,
      "outputs": [
        {
          "output_type": "stream",
          "text": [
            "(661, 7)\n",
            "(661, 336)\n",
            "(528, 336)\n",
            "(828, 336)\n"
          ],
          "name": "stdout"
        }
      ]
    },
    {
      "cell_type": "markdown",
      "metadata": {
        "id": "yJFQCxB0BkZ1",
        "colab_type": "text"
      },
      "source": [
        "### LSTM"
      ]
    },
    {
      "cell_type": "code",
      "metadata": {
        "id": "LiOr31QyA2Mb",
        "colab_type": "code",
        "colab": {}
      },
      "source": [
        "feat = ['Ventricles','Hippocampus','Entorhinal','Fusiform','MidTemp','ICV','WholeBrain']\n",
        "features = mridata[['Ventricles','Hippocampus','Entorhinal','Fusiform','MidTemp','ICV','WholeBrain']].values\n",
        "labels = mridata['DX_Code'].values\n",
        "features = perform_scale(features)\n",
        "#features = perform_PCA(features)\n",
        "\n",
        "\n",
        "### Hyper Parameters for LSTM Model\n",
        "epochs = 10\n",
        "n_classes = 1\n",
        "n_units = 5\n",
        "n_features = features.shape[1]\n",
        "batch_size = 200"
      ],
      "execution_count": 0,
      "outputs": []
    },
    {
      "cell_type": "code",
      "metadata": {
        "id": "IYt_jrmJCUvg",
        "colab_type": "code",
        "outputId": "62f4f712-df02-4817-de3a-620b36a4d3eb",
        "colab": {
          "base_uri": "https://localhost:8080/",
          "height": 736
        }
      },
      "source": [
        "xplaceholder= tf.placeholder('float',[None,n_features])\n",
        "yplaceholder = tf.placeholder('float')\n",
        "origblcross,predblcross = trainmodel()"
      ],
      "execution_count": 0,
      "outputs": [
        {
          "output_type": "stream",
          "text": [
            "[<tf.Tensor 'split:0' shape=(?, 1) dtype=float32>, <tf.Tensor 'split:1' shape=(?, 1) dtype=float32>, <tf.Tensor 'split:2' shape=(?, 1) dtype=float32>, <tf.Tensor 'split:3' shape=(?, 1) dtype=float32>, <tf.Tensor 'split:4' shape=(?, 1) dtype=float32>, <tf.Tensor 'split:5' shape=(?, 1) dtype=float32>, <tf.Tensor 'split:6' shape=(?, 1) dtype=float32>]\n",
            "(4376, 7)\n",
            "(6656, 7)\n"
          ],
          "name": "stdout"
        },
        {
          "output_type": "display_data",
          "data": {
            "image/png": "[encoded data removed]",
            "text/plain": [
              "<Figure size 432x288 with 1 Axes>"
            ]
          },
          "metadata": {
            "tags": []
          }
        },
        {
          "output_type": "stream",
          "text": [
            "/usr/local/lib/python3.6/dist-packages/sklearn/metrics/classification.py:1437: UndefinedMetricWarning: F-score is ill-defined and being set to 0.0 in labels with no predicted samples.\n",
            "  'precision', 'predicted', average, warn_for)\n",
            "/usr/local/lib/python3.6/dist-packages/sklearn/metrics/classification.py:1437: UndefinedMetricWarning: Precision is ill-defined and being set to 0.0 due to no predicted samples.\n",
            "  'precision', 'predicted', average, warn_for)\n"
          ],
          "name": "stderr"
        },
        {
          "output_type": "stream",
          "text": [
            "F1 Score: 0.47605363984674326\n",
            "Accuracy Score: 0.9085923217550275\n"
          ],
          "name": "stdout"
        },
        {
          "output_type": "display_data",
          "data": {
            "image/png": "[encoded data removed]",
            "text/plain": [
              "<Figure size 432x288 with 1 Axes>"
            ]
          },
          "metadata": {
            "tags": []
          }
        }
      ]
    },
    {
      "cell_type": "markdown",
      "metadata": {
        "id": "1pJPA1cNg6iV",
        "colab_type": "text"
      },
      "source": [
        "Keras"
      ]
    },
    {
      "cell_type": "code",
      "metadata": {
        "id": "Pj8Z_k2BhEDw",
        "colab_type": "code",
        "outputId": "2fe2c8eb-945b-4073-edef-1a1a4131790e",
        "colab": {
          "base_uri": "https://localhost:8080/",
          "height": 375
        }
      },
      "source": [
        "import numpy\n",
        "from keras.models import Sequential\n",
        "from keras.layers import Dense\n",
        "from keras.layers import LSTM\n",
        "from keras.layers.embeddings import Embedding\n",
        "from keras.preprocessing import sequence\n",
        "# fix random seed for reproducibility\n",
        "numpy.random.seed(7)\n",
        "\n",
        "# truncate and pad input sequences\n",
        "max_review_length = 500\n",
        "X_train = sequence.pad_sequences(X_train, maxlen=max_review_length)\n",
        "X_test = sequence.pad_sequences(X_test, maxlen=max_review_length)\n",
        "# create the model\n",
        "embedding_vecor_length = 32\n",
        "model = Sequential()\n",
        "model.add(Embedding(features.shape[1], embedding_vecor_length, input_length=features.shape[1]))\n",
        "model.add(LSTM(100)\n",
        "model.add(Dense(1, activation='sigmoid'))\n",
        "model.compile(loss='binary_crossentropy', optimizer='adam', metrics=['accuracy'])\n",
        "print(model.summary())\n",
        "model.fit(X_train, y_train, epochs=10, batch_size=10)\n",
        "# Final evaluation of the model\n",
        "scores = model.evaluate(X_test, y_test, verbose=0)\n",
        "print(\"Accuracy: %.2f%%\" % (scores[1]*100))"
      ],
      "execution_count": 0,
      "outputs": [
        {
          "output_type": "error",
          "ename": "TypeError",
          "evalue": "ignored",
          "traceback": [
            "\u001b[0;31m---------------------------------------------------------------------------\u001b[0m",
            "\u001b[0;31mTypeError\u001b[0m                                 Traceback (most recent call last)",
            "\u001b[0;32m<ipython-input-17-09bd2bd2a18c>\u001b[0m in \u001b[0;36m<module>\u001b[0;34m()\u001b[0m\n\u001b[1;32m     16\u001b[0m \u001b[0mmodel\u001b[0m \u001b[0;34m=\u001b[0m \u001b[0mSequential\u001b[0m\u001b[0;34m(\u001b[0m\u001b[0;34m)\u001b[0m\u001b[0;34m\u001b[0m\u001b[0;34m\u001b[0m\u001b[0m\n\u001b[1;32m     17\u001b[0m \u001b[0;31m#model.add(Embedding(features.shape[1], embedding_vecor_length, input_length=features.shape[1]))\u001b[0m\u001b[0;34m\u001b[0m\u001b[0;34m\u001b[0m\u001b[0;34m\u001b[0m\u001b[0m\n\u001b[0;32m---> 18\u001b[0;31m \u001b[0mmodel\u001b[0m\u001b[0;34m.\u001b[0m\u001b[0madd\u001b[0m\u001b[0;34m(\u001b[0m\u001b[0mLSTM\u001b[0m\u001b[0;34m(\u001b[0m\u001b[0;36m100\u001b[0m\u001b[0;34m,\u001b[0m \u001b[0minput\u001b[0m \u001b[0;34m=\u001b[0m \u001b[0mfeatures\u001b[0m\u001b[0;34m.\u001b[0m\u001b[0mshape\u001b[0m\u001b[0;34m[\u001b[0m\u001b[0;36m1\u001b[0m\u001b[0;34m]\u001b[0m\u001b[0;34m)\u001b[0m\u001b[0;34m)\u001b[0m\u001b[0;34m\u001b[0m\u001b[0;34m\u001b[0m\u001b[0m\n\u001b[0m\u001b[1;32m     19\u001b[0m \u001b[0mmodel\u001b[0m\u001b[0;34m.\u001b[0m\u001b[0madd\u001b[0m\u001b[0;34m(\u001b[0m\u001b[0mDense\u001b[0m\u001b[0;34m(\u001b[0m\u001b[0;36m1\u001b[0m\u001b[0;34m,\u001b[0m \u001b[0mactivation\u001b[0m\u001b[0;34m=\u001b[0m\u001b[0;34m'sigmoid'\u001b[0m\u001b[0;34m)\u001b[0m\u001b[0;34m)\u001b[0m\u001b[0;34m\u001b[0m\u001b[0;34m\u001b[0m\u001b[0m\n\u001b[1;32m     20\u001b[0m \u001b[0mmodel\u001b[0m\u001b[0;34m.\u001b[0m\u001b[0mcompile\u001b[0m\u001b[0;34m(\u001b[0m\u001b[0mloss\u001b[0m\u001b[0;34m=\u001b[0m\u001b[0;34m'binary_crossentropy'\u001b[0m\u001b[0;34m,\u001b[0m \u001b[0moptimizer\u001b[0m\u001b[0;34m=\u001b[0m\u001b[0;34m'adam'\u001b[0m\u001b[0;34m,\u001b[0m \u001b[0mmetrics\u001b[0m\u001b[0;34m=\u001b[0m\u001b[0;34m[\u001b[0m\u001b[0;34m'accuracy'\u001b[0m\u001b[0;34m]\u001b[0m\u001b[0;34m)\u001b[0m\u001b[0;34m\u001b[0m\u001b[0;34m\u001b[0m\u001b[0m\n",
            "\u001b[0;32m/usr/local/lib/python3.6/dist-packages/keras/legacy/interfaces.py\u001b[0m in \u001b[0;36mwrapper\u001b[0;34m(*args, **kwargs)\u001b[0m\n\u001b[1;32m     89\u001b[0m                 warnings.warn('Update your `' + object_name + '` call to the ' +\n\u001b[1;32m     90\u001b[0m                               'Keras 2 API: ' + signature, stacklevel=2)\n\u001b[0;32m---> 91\u001b[0;31m             \u001b[0;32mreturn\u001b[0m \u001b[0mfunc\u001b[0m\u001b[0;34m(\u001b[0m\u001b[0;34m*\u001b[0m\u001b[0margs\u001b[0m\u001b[0;34m,\u001b[0m \u001b[0;34m**\u001b[0m\u001b[0mkwargs\u001b[0m\u001b[0;34m)\u001b[0m\u001b[0;34m\u001b[0m\u001b[0;34m\u001b[0m\u001b[0m\n\u001b[0m\u001b[1;32m     92\u001b[0m         \u001b[0mwrapper\u001b[0m\u001b[0;34m.\u001b[0m\u001b[0m_original_function\u001b[0m \u001b[0;34m=\u001b[0m \u001b[0mfunc\u001b[0m\u001b[0;34m\u001b[0m\u001b[0;34m\u001b[0m\u001b[0m\n\u001b[1;32m     93\u001b[0m         \u001b[0;32mreturn\u001b[0m \u001b[0mwrapper\u001b[0m\u001b[0;34m\u001b[0m\u001b[0;34m\u001b[0m\u001b[0m\n",
            "\u001b[0;32m/usr/local/lib/python3.6/dist-packages/keras/layers/recurrent.py\u001b[0m in \u001b[0;36m__init__\u001b[0;34m(self, units, activation, recurrent_activation, use_bias, kernel_initializer, recurrent_initializer, bias_initializer, unit_forget_bias, kernel_regularizer, recurrent_regularizer, bias_regularizer, activity_regularizer, kernel_constraint, recurrent_constraint, bias_constraint, dropout, recurrent_dropout, implementation, return_sequences, return_state, go_backwards, stateful, unroll, **kwargs)\u001b[0m\n\u001b[1;32m   2227\u001b[0m                                    \u001b[0mstateful\u001b[0m\u001b[0;34m=\u001b[0m\u001b[0mstateful\u001b[0m\u001b[0;34m,\u001b[0m\u001b[0;34m\u001b[0m\u001b[0;34m\u001b[0m\u001b[0m\n\u001b[1;32m   2228\u001b[0m                                    \u001b[0munroll\u001b[0m\u001b[0;34m=\u001b[0m\u001b[0munroll\u001b[0m\u001b[0;34m,\u001b[0m\u001b[0;34m\u001b[0m\u001b[0;34m\u001b[0m\u001b[0m\n\u001b[0;32m-> 2229\u001b[0;31m                                    **kwargs)\n\u001b[0m\u001b[1;32m   2230\u001b[0m         \u001b[0mself\u001b[0m\u001b[0;34m.\u001b[0m\u001b[0mactivity_regularizer\u001b[0m \u001b[0;34m=\u001b[0m \u001b[0mregularizers\u001b[0m\u001b[0;34m.\u001b[0m\u001b[0mget\u001b[0m\u001b[0;34m(\u001b[0m\u001b[0mactivity_regularizer\u001b[0m\u001b[0;34m)\u001b[0m\u001b[0;34m\u001b[0m\u001b[0;34m\u001b[0m\u001b[0m\n\u001b[1;32m   2231\u001b[0m \u001b[0;34m\u001b[0m\u001b[0m\n",
            "\u001b[0;32m/usr/local/lib/python3.6/dist-packages/keras/layers/recurrent.py\u001b[0m in \u001b[0;36m__init__\u001b[0;34m(self, cell, return_sequences, return_state, go_backwards, stateful, unroll, **kwargs)\u001b[0m\n\u001b[1;32m    407\u001b[0m                              \u001b[0;34m'(tuple of integers, '\u001b[0m\u001b[0;34m\u001b[0m\u001b[0;34m\u001b[0m\u001b[0m\n\u001b[1;32m    408\u001b[0m                              'one integer per RNN state).')\n\u001b[0;32m--> 409\u001b[0;31m         \u001b[0msuper\u001b[0m\u001b[0;34m(\u001b[0m\u001b[0mRNN\u001b[0m\u001b[0;34m,\u001b[0m \u001b[0mself\u001b[0m\u001b[0;34m)\u001b[0m\u001b[0;34m.\u001b[0m\u001b[0m__init__\u001b[0m\u001b[0;34m(\u001b[0m\u001b[0;34m**\u001b[0m\u001b[0mkwargs\u001b[0m\u001b[0;34m)\u001b[0m\u001b[0;34m\u001b[0m\u001b[0;34m\u001b[0m\u001b[0m\n\u001b[0m\u001b[1;32m    410\u001b[0m         \u001b[0mself\u001b[0m\u001b[0;34m.\u001b[0m\u001b[0mcell\u001b[0m \u001b[0;34m=\u001b[0m \u001b[0mcell\u001b[0m\u001b[0;34m\u001b[0m\u001b[0;34m\u001b[0m\u001b[0m\n\u001b[1;32m    411\u001b[0m         \u001b[0mself\u001b[0m\u001b[0;34m.\u001b[0m\u001b[0mreturn_sequences\u001b[0m \u001b[0;34m=\u001b[0m \u001b[0mreturn_sequences\u001b[0m\u001b[0;34m\u001b[0m\u001b[0;34m\u001b[0m\u001b[0m\n",
            "\u001b[0;32m/usr/local/lib/python3.6/dist-packages/keras/engine/base_layer.py\u001b[0m in \u001b[0;36m__init__\u001b[0;34m(self, **kwargs)\u001b[0m\n\u001b[1;32m    126\u001b[0m         \u001b[0;32mfor\u001b[0m \u001b[0mkwarg\u001b[0m \u001b[0;32min\u001b[0m \u001b[0mkwargs\u001b[0m\u001b[0;34m:\u001b[0m\u001b[0;34m\u001b[0m\u001b[0;34m\u001b[0m\u001b[0m\n\u001b[1;32m    127\u001b[0m             \u001b[0;32mif\u001b[0m \u001b[0mkwarg\u001b[0m \u001b[0;32mnot\u001b[0m \u001b[0;32min\u001b[0m \u001b[0mallowed_kwargs\u001b[0m\u001b[0;34m:\u001b[0m\u001b[0;34m\u001b[0m\u001b[0;34m\u001b[0m\u001b[0m\n\u001b[0;32m--> 128\u001b[0;31m                 \u001b[0;32mraise\u001b[0m \u001b[0mTypeError\u001b[0m\u001b[0;34m(\u001b[0m\u001b[0;34m'Keyword argument not understood:'\u001b[0m\u001b[0;34m,\u001b[0m \u001b[0mkwarg\u001b[0m\u001b[0;34m)\u001b[0m\u001b[0;34m\u001b[0m\u001b[0;34m\u001b[0m\u001b[0m\n\u001b[0m\u001b[1;32m    129\u001b[0m         \u001b[0mname\u001b[0m \u001b[0;34m=\u001b[0m \u001b[0mkwargs\u001b[0m\u001b[0;34m.\u001b[0m\u001b[0mget\u001b[0m\u001b[0;34m(\u001b[0m\u001b[0;34m'name'\u001b[0m\u001b[0;34m)\u001b[0m\u001b[0;34m\u001b[0m\u001b[0;34m\u001b[0m\u001b[0m\n\u001b[1;32m    130\u001b[0m         \u001b[0;32mif\u001b[0m \u001b[0;32mnot\u001b[0m \u001b[0mname\u001b[0m\u001b[0;34m:\u001b[0m\u001b[0;34m\u001b[0m\u001b[0;34m\u001b[0m\u001b[0m\n",
            "\u001b[0;31mTypeError\u001b[0m: ('Keyword argument not understood:', 'input')"
          ]
        }
      ]
    },
    {
      "cell_type": "markdown",
      "metadata": {
        "id": "HqEpJpKlCK-k",
        "colab_type": "text"
      },
      "source": [
        "### AUC"
      ]
    },
    {
      "cell_type": "code",
      "metadata": {
        "id": "t_XPYQ-GP2wd",
        "colab_type": "code",
        "outputId": "11f5e407-9433-44f3-e710-3258e2dcc7e0",
        "colab": {
          "base_uri": "https://localhost:8080/",
          "height": 295
        }
      },
      "source": [
        "plt.plot(fprrf, tprrf, color='deeppink',lw=2,label='Random Forest (area = %0.2f)' % auc(fprrf,tprrf))\n",
        "plt.plot(fprlr, tprlr, color='aqua',lw=2,label='Logistic Regression (area = %0.2f)' % auc(fprlr,tprlr))\n",
        "#plt.plot(fprsvm, tprsvm, color='cornflowerblue',lw=2,label='SVM (area = %0.2f)' % auc(fprsvm,tprsvm))\n",
        "#plt.plot(fpr, tpr, color='darkorange',lw=2,label='LSTM (area = %0.2f)' % auc(fpr,tpr))\n",
        "plt.plot([0, 1], [0, 1], color='navy', lw=2, linestyle='--')\n",
        "plt.xlim([0.0, 1.0])\n",
        "plt.ylim([0.0, 1.05])\n",
        "plt.xlabel('False Positive Rate')\n",
        "plt.ylabel('True Positive Rate')\n",
        "plt.title('Receiver operating characteristic')\n",
        "plt.legend(loc=\"lower right\")\n",
        "plt.show()"
      ],
      "execution_count": 0,
      "outputs": [
        {
          "output_type": "display_data",
          "data": {
            "image/png": "[encoded data removed]",
            "text/plain": [
              "<Figure size 432x288 with 1 Axes>"
            ]
          },
          "metadata": {
            "tags": []
          }
        }
      ]
    },
    {
      "cell_type": "markdown",
      "metadata": {
        "id": "rkTItb_x0PMY",
        "colab_type": "text"
      },
      "source": [
        "#Deep Learning Feature Importance Function"
      ]
    },
    {
      "cell_type": "markdown",
      "metadata": {
        "id": "PrfQycFG0cXq",
        "colab_type": "text"
      },
      "source": [
        "This method is based on drop out feature based method https://arxiv.org/pdf/1712.08645.pdf\n",
        "Here One feature will be removed in each iteration and accuracy other measures will be observed to changed and final decision will be made."
      ]
    },
    {
      "cell_type": "code",
      "metadata": {
        "id": "Cfp113k61lTW",
        "colab_type": "code",
        "colab": {}
      },
      "source": [
        "blcross = pd.read_csv('CrossSecDataAtBL.csv')"
      ],
      "execution_count": 0,
      "outputs": []
    },
    {
      "cell_type": "code",
      "metadata": {
        "id": "e_D3jw0N0Y7e",
        "colab_type": "code",
        "colab": {}
      },
      "source": [
        "def neural_network_feature_importance():\n",
        "    layer ={ 'weights': weights,'bias': bias}\n",
        "    x = tf.split(xplaceholder, n_features, 1)   \n",
        "    lstm_cell = rnn.LSTMCell(n_units,reuse = tf.AUTO_REUSE,activation = 'tanh',forget_bias = 0)\n",
        "    outputs, states = rnn.static_rnn(lstm_cell, x,dtype=tf.float32)\n",
        "    output = tf.matmul(outputs[-1], layer['weights']) + layer['bias']\n",
        "\n",
        "    return output\n",
        "\n"
      ],
      "execution_count": 0,
      "outputs": []
    },
    {
      "cell_type": "code",
      "metadata": {
        "id": "umMyBiNPfS6W",
        "colab_type": "code",
        "colab": {}
      },
      "source": [
        "## Performing Cross Validation\n",
        "from sklearn.model_selection import RepeatedKFold \n",
        "def CrossValidateForFeatureImportance():\n",
        "    #tf.reset_default_graph()\n",
        "    #initializeparam()\n",
        "    #initializeplaceholder()\n",
        "    logit = neural_network_feature_importance()\n",
        "    logit = tf.reshape(logit, [-1])\n",
        "    f1_list = []\n",
        "    accuracy_list = []\n",
        "    recall_list = []\n",
        "    precision_list = []\n",
        "    cost = tf.reduce_mean(tf.nn.sigmoid_cross_entropy_with_logits(logits=logit, labels=yplaceholder))\n",
        "    optimizer = tf.train.AdamOptimizer().minimize(cost)\n",
        "\n",
        "    with tf.Session() as sess:\n",
        "        X_train,X_test,y_train,y_test = train_test_split(features, labels, test_size=0.2, shuffle=False, random_state=42)\n",
        "        tf.global_variables_initializer().run()\n",
        "        tf.local_variables_initializer().run()\n",
        "        kf = RepeatedKFold(n_splits=5, n_repeats=1, random_state=42)\n",
        "        for train_index, test_index in kf.split(features):\n",
        "            ##print(\"Train:\", train_index, \"Validation:\",test_index)\n",
        "            X_train, X_test = features[train_index], features[test_index] \n",
        "            y_train, y_test = labels[train_index], labels[test_index]\n",
        "            for epoch in range(epochs):\n",
        "                epoch_loss = 0\n",
        "\n",
        "                i = 0\n",
        "                for i in range(int(len(X_train) / batch_size)):\n",
        "                    start = i\n",
        "                    end = i + batch_size\n",
        "\n",
        "                    batch_x = np.array(X_train[start:end])\n",
        "                    batch_y = np.array(y_train[start:end])\n",
        "\n",
        "                    _, c = sess.run([optimizer, cost], feed_dict={xplaceholder: batch_x, yplaceholder: batch_y})\n",
        "                    epoch_loss += c\n",
        "                    i += batch_size\n",
        "\n",
        "                ##print('Epoch', epoch, 'completed out of', epochs, 'loss:', epoch_loss)\n",
        "\n",
        "            pred = tf.round(tf.nn.sigmoid(logit)).eval({xplaceholder: np.array(X_test), yplaceholder: np.array(y_test)})\n",
        "            predr = (tf.nn.sigmoid(logit)).eval({xplaceholder: np.array(X_test), yplaceholder: np.array(y_test)})\n",
        "            f1 = f1_score(np.array(y_test), pred, average='macro')\n",
        "            accuracy=accuracy_score(np.array(y_test), pred)\n",
        "            recall = recall_score(y_true=np.array(y_test), y_pred= pred)\n",
        "            precision = precision_score(y_true=np.array(y_test), y_pred=pred)\n",
        "            #print(\"F1 Score:\", f1)\n",
        "            f1_list.append(f1)\n",
        "            #print(\"Accuracy Score:\",accuracy)\n",
        "            accuracy_list.append(accuracy)\n",
        "            #print(\"Recall:\", recall)\n",
        "            recall_list.append(recall)\n",
        "            #print(\"Precision:\", precision)\n",
        "            precision_list.append(precision)\n",
        "    f1_score_temp = stat.mean(f1_list)\n",
        "    #print(\"Average F1 Score:\", f1_score_temp)\n",
        "    #print(\"Average Accuracy Score:\", stat.mean(accuracy_list))\n",
        "    #print(\"Average Recall:\", stat.mean(recall_list))\n",
        "    #print(\"Average Precision:\", stat.mean(precision_list))\n",
        "    #tf.reset_default_graph()\n",
        "    return f1_score_temp"
      ],
      "execution_count": 0,
      "outputs": []
    },
    {
      "cell_type": "code",
      "metadata": {
        "id": "WqWRTvX32a0k",
        "colab_type": "code",
        "outputId": "7f1681db-7316-403f-b1a8-de9d42a8bfc0",
        "colab": {
          "base_uri": "https://localhost:8080/",
          "height": 309
        }
      },
      "source": [
        "tf.reset_default_graph()\n",
        "feat = ['PTEDUCAT','AGE','PTGENDER_Code','PTETHCAT_Code','PTRACCAT_Code','PTMARRY_Code','LDELTOTAL','Ventricles','Hippocampus','MidTemp','AngularLeft','AngularRight','CingulumPostBilateral','TemporalLeft','TemporalRight']\n",
        "features = blcross[['PTEDUCAT','AGE','PTGENDER_Code','PTETHCAT_Code','PTRACCAT_Code','PTMARRY_Code','LDELTOTAL','Ventricles','Hippocampus','MidTemp','AngularLeft','AngularRight','CingulumPostBilateral','TemporalLeft','TemporalRight']].values\n",
        "labels = blcross['DX_Code'].values\n",
        "## Constant parameters\n",
        "epochs = 10 ### Should be Constant\n",
        "n_classes = 1\n",
        "n_units = 10\n",
        "batch_size = 10\n",
        "##Weight and Bias\n",
        "\n",
        "bias = tf.Variable([0.1])\n",
        "\n",
        "weights = tf.Variable([[ 0.83278215],\n",
        "           [ 1.7731416 ],\n",
        "           [ 1.7996391 ],\n",
        "           [-1.1422378 ],\n",
        "           [ 1.1669127 ],\n",
        "           [ 0.523059  ],\n",
        "           [ 0.21038328],\n",
        "           [ 0.16735107],\n",
        "           [-1.0397089 ],\n",
        "           [-0.43292055]])\n",
        "\n",
        "## Variable parameters\n",
        "n_features = features.shape[1]\n",
        "\n",
        "xplaceholder= tf.placeholder('float',[None,n_features])\n",
        "yplaceholder = tf.placeholder('float')\n",
        "superf1score = CrossValidateForFeatureImportance()\n",
        "super_features = features"
      ],
      "execution_count": 0,
      "outputs": [
        {
          "output_type": "stream",
          "text": [
            "WARNING: Logging before flag parsing goes to stderr.\n",
            "W0803 12:26:46.707100 140184908089216 deprecation.py:323] From <ipython-input-6-99de91df55c2>:4: LSTMCell.__init__ (from tensorflow.python.ops.rnn_cell_impl) is deprecated and will be removed in a future version.\n",
            "Instructions for updating:\n",
            "This class is equivalent as tf.keras.layers.LSTMCell, and will be replaced by that in Tensorflow 2.0.\n",
            "W0803 12:26:46.709312 140184908089216 deprecation.py:323] From <ipython-input-6-99de91df55c2>:5: static_rnn (from tensorflow.python.ops.rnn) is deprecated and will be removed in a future version.\n",
            "Instructions for updating:\n",
            "Please use `keras.layers.RNN(cell, unroll=True)`, which is equivalent to this API\n",
            "W0803 12:26:46.747533 140184908089216 deprecation.py:506] From /usr/local/lib/python3.6/dist-packages/tensorflow/python/ops/init_ops.py:1251: calling VarianceScaling.__init__ (from tensorflow.python.ops.init_ops) with dtype is deprecated and will be removed in a future version.\n",
            "Instructions for updating:\n",
            "Call initializer instance with the dtype argument instead of passing it to the constructor\n",
            "W0803 12:26:46.763144 140184908089216 deprecation.py:506] From /usr/local/lib/python3.6/dist-packages/tensorflow/python/ops/rnn_cell_impl.py:961: calling Zeros.__init__ (from tensorflow.python.ops.init_ops) with dtype is deprecated and will be removed in a future version.\n",
            "Instructions for updating:\n",
            "Call initializer instance with the dtype argument instead of passing it to the constructor\n",
            "W0803 12:26:47.652292 140184908089216 deprecation.py:323] From /usr/local/lib/python3.6/dist-packages/tensorflow/python/ops/nn_impl.py:180: add_dispatch_support.<locals>.wrapper (from tensorflow.python.ops.array_ops) is deprecated and will be removed in a future version.\n",
            "Instructions for updating:\n",
            "Use tf.where in 2.0, which has the same broadcast rule as np.where\n"
          ],
          "name": "stderr"
        }
      ]
    },
    {
      "cell_type": "code",
      "metadata": {
        "id": "Bhq3t3jAbyla",
        "colab_type": "code",
        "outputId": "448d3255-f0e3-4f31-c2be-cbf225345f60",
        "colab": {
          "base_uri": "https://localhost:8080/",
          "height": 891
        }
      },
      "source": [
        "## This algorithm takes time based on the epoch\n",
        "f1 = []\n",
        "for i in range(super_features.shape[1]):\n",
        "    tf.reset_default_graph()\n",
        "    ## Constant parameters\n",
        "    epochs = 10 ### Should be Constant\n",
        "    n_classes = 1\n",
        "    n_units = 10\n",
        "    batch_size = 10\n",
        "    ##Weight and Bias\n",
        "\n",
        "    bias = tf.Variable([0.1])\n",
        "\n",
        "    weights = tf.Variable([[ 0.83278215],\n",
        "               [ 1.7731416 ],\n",
        "               [ 1.7996391 ],\n",
        "               [-1.1422378 ],\n",
        "               [ 1.1669127 ],\n",
        "               [ 0.523059  ],\n",
        "               [ 0.21038328],\n",
        "               [ 0.16735107],\n",
        "               [-1.0397089 ],\n",
        "               [-0.43292055]])\n",
        "    features = np.delete(super_features, i, axis=1)\n",
        "    n_features = features.shape[1]\n",
        "\n",
        "    xplaceholder= tf.placeholder('float',[None,n_features])\n",
        "    yplaceholder = tf.placeholder('float')\n",
        "    f1temp = CrossValidateForFeatureImportance()\n",
        "    f1.append(f1temp)\n",
        "    #print('Feature')\n",
        "    #print(i)\n",
        "f1df = pd.DataFrame({'Score':superf1score-f1,'Feature':feat})\n",
        "print('Feature Importance is as follows')\n",
        "f1df.sort_values(by = ['Score'],ascending = False)"
      ],
      "execution_count": 0,
      "outputs": [
        {
          "output_type": "stream",
          "text": [
            "/usr/local/lib/python3.6/dist-packages/sklearn/metrics/classification.py:1437: UndefinedMetricWarning: F-score is ill-defined and being set to 0.0 in labels with no predicted samples.\n",
            "  'precision', 'predicted', average, warn_for)\n",
            "/usr/local/lib/python3.6/dist-packages/sklearn/metrics/classification.py:1437: UndefinedMetricWarning: Precision is ill-defined and being set to 0.0 due to no predicted samples.\n",
            "  'precision', 'predicted', average, warn_for)\n",
            "/usr/local/lib/python3.6/dist-packages/sklearn/metrics/classification.py:1437: UndefinedMetricWarning: F-score is ill-defined and being set to 0.0 in labels with no predicted samples.\n",
            "  'precision', 'predicted', average, warn_for)\n",
            "/usr/local/lib/python3.6/dist-packages/sklearn/metrics/classification.py:1437: UndefinedMetricWarning: Precision is ill-defined and being set to 0.0 due to no predicted samples.\n",
            "  'precision', 'predicted', average, warn_for)\n",
            "/usr/local/lib/python3.6/dist-packages/sklearn/metrics/classification.py:1437: UndefinedMetricWarning: F-score is ill-defined and being set to 0.0 in labels with no predicted samples.\n",
            "  'precision', 'predicted', average, warn_for)\n",
            "/usr/local/lib/python3.6/dist-packages/sklearn/metrics/classification.py:1437: UndefinedMetricWarning: Precision is ill-defined and being set to 0.0 due to no predicted samples.\n",
            "  'precision', 'predicted', average, warn_for)\n",
            "/usr/local/lib/python3.6/dist-packages/sklearn/metrics/classification.py:1437: UndefinedMetricWarning: F-score is ill-defined and being set to 0.0 in labels with no predicted samples.\n",
            "  'precision', 'predicted', average, warn_for)\n",
            "/usr/local/lib/python3.6/dist-packages/sklearn/metrics/classification.py:1437: UndefinedMetricWarning: Precision is ill-defined and being set to 0.0 due to no predicted samples.\n",
            "  'precision', 'predicted', average, warn_for)\n",
            "/usr/local/lib/python3.6/dist-packages/sklearn/metrics/classification.py:1437: UndefinedMetricWarning: F-score is ill-defined and being set to 0.0 in labels with no predicted samples.\n",
            "  'precision', 'predicted', average, warn_for)\n",
            "/usr/local/lib/python3.6/dist-packages/sklearn/metrics/classification.py:1437: UndefinedMetricWarning: Precision is ill-defined and being set to 0.0 due to no predicted samples.\n",
            "  'precision', 'predicted', average, warn_for)\n"
          ],
          "name": "stderr"
        },
        {
          "output_type": "stream",
          "text": [
            "Feature Importance is as follows\n"
          ],
          "name": "stdout"
        },
        {
          "output_type": "execute_result",
          "data": {
            "text/html": [
              "<div>\n",
              "<style scoped>\n",
              "    .dataframe tbody tr th:only-of-type {\n",
              "        vertical-align: middle;\n",
              "    }\n",
              "\n",
              "    .dataframe tbody tr th {\n",
              "        vertical-align: top;\n",
              "    }\n",
              "\n",
              "    .dataframe thead th {\n",
              "        text-align: right;\n",
              "    }\n",
              "</style>\n",
              "<table border=\"1\" class=\"dataframe\">\n",
              "  <thead>\n",
              "    <tr style=\"text-align: right;\">\n",
              "      <th></th>\n",
              "      <th>Score</th>\n",
              "      <th>Feature</th>\n",
              "    </tr>\n",
              "  </thead>\n",
              "  <tbody>\n",
              "    <tr>\n",
              "      <th>6</th>\n",
              "      <td>0.210079</td>\n",
              "      <td>LDELTOTAL</td>\n",
              "    </tr>\n",
              "    <tr>\n",
              "      <th>10</th>\n",
              "      <td>0.068637</td>\n",
              "      <td>AngularLeft</td>\n",
              "    </tr>\n",
              "    <tr>\n",
              "      <th>12</th>\n",
              "      <td>0.064425</td>\n",
              "      <td>CingulumPostBilateral</td>\n",
              "    </tr>\n",
              "    <tr>\n",
              "      <th>11</th>\n",
              "      <td>0.063654</td>\n",
              "      <td>AngularRight</td>\n",
              "    </tr>\n",
              "    <tr>\n",
              "      <th>5</th>\n",
              "      <td>0.061299</td>\n",
              "      <td>PTMARRY_Code</td>\n",
              "    </tr>\n",
              "    <tr>\n",
              "      <th>13</th>\n",
              "      <td>0.056140</td>\n",
              "      <td>TemporalLeft</td>\n",
              "    </tr>\n",
              "    <tr>\n",
              "      <th>7</th>\n",
              "      <td>0.052304</td>\n",
              "      <td>Ventricles</td>\n",
              "    </tr>\n",
              "    <tr>\n",
              "      <th>0</th>\n",
              "      <td>0.011570</td>\n",
              "      <td>PTEDUCAT</td>\n",
              "    </tr>\n",
              "    <tr>\n",
              "      <th>4</th>\n",
              "      <td>-0.011943</td>\n",
              "      <td>PTRACCAT_Code</td>\n",
              "    </tr>\n",
              "    <tr>\n",
              "      <th>14</th>\n",
              "      <td>-0.012727</td>\n",
              "      <td>TemporalRight</td>\n",
              "    </tr>\n",
              "    <tr>\n",
              "      <th>2</th>\n",
              "      <td>-0.012873</td>\n",
              "      <td>PTGENDER_Code</td>\n",
              "    </tr>\n",
              "    <tr>\n",
              "      <th>3</th>\n",
              "      <td>-0.013884</td>\n",
              "      <td>PTETHCAT_Code</td>\n",
              "    </tr>\n",
              "    <tr>\n",
              "      <th>9</th>\n",
              "      <td>-0.017249</td>\n",
              "      <td>MidTemp</td>\n",
              "    </tr>\n",
              "    <tr>\n",
              "      <th>8</th>\n",
              "      <td>-0.017767</td>\n",
              "      <td>Hippocampus</td>\n",
              "    </tr>\n",
              "    <tr>\n",
              "      <th>1</th>\n",
              "      <td>-0.024135</td>\n",
              "      <td>AGE</td>\n",
              "    </tr>\n",
              "  </tbody>\n",
              "</table>\n",
              "</div>"
            ],
            "text/plain": [
              "       Score                Feature\n",
              "6   0.210079              LDELTOTAL\n",
              "10  0.068637            AngularLeft\n",
              "12  0.064425  CingulumPostBilateral\n",
              "11  0.063654           AngularRight\n",
              "5   0.061299           PTMARRY_Code\n",
              "13  0.056140           TemporalLeft\n",
              "7   0.052304             Ventricles\n",
              "0   0.011570               PTEDUCAT\n",
              "4  -0.011943          PTRACCAT_Code\n",
              "14 -0.012727          TemporalRight\n",
              "2  -0.012873          PTGENDER_Code\n",
              "3  -0.013884          PTETHCAT_Code\n",
              "9  -0.017249                MidTemp\n",
              "8  -0.017767            Hippocampus\n",
              "1  -0.024135                    AGE"
            ]
          },
          "metadata": {
            "tags": []
          },
          "execution_count": 10
        }
      ]
    }
  ]
}